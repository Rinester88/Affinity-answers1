{
 "cells": [
  {
   "cell_type": "markdown",
   "id": "a46a2a5e",
   "metadata": {},
   "source": [
    "## Address Validation\n",
    "\n",
    "This notebook provides a solution to validate addresses based on their PIN code and post office branch name using the provided APIs. The objective is to ensure the correctness of the address details.\n"
   ]
  },
  {
   "cell_type": "markdown",
   "id": "08a72346",
   "metadata": {},
   "source": [
    "## Required Libraries\n",
    "\n",
    "- `requests`: To make HTTP requests to the APIs.\n",
    "- `re`: To perform regular expression operations for pattern matching.\n"
   ]
  },
  {
   "cell_type": "markdown",
   "id": "7bbeec3c",
   "metadata": {},
   "source": [
    "## Address Validation Function\n",
    "\n",
    "The `validate_address` function performs the following steps:\n",
    "\n",
    "1. Extracts the PIN code from the address.\n",
    "2. Validates the PIN code using the API.\n",
    "3. Extracts potential post office names from the address.\n",
    "4. Validates each potential post office name using the API.\n",
    "5. Confirms the details (district, state, and city) from the API match the provided address.\n",
    "\n",
    "Let's define the function:\n"
   ]
  },
  {
   "cell_type": "markdown",
   "id": "fe2c69a1",
   "metadata": {},
   "source": [
    "- `def validate_address(address)`\n"
   ]
  },
  {
   "cell_type": "markdown",
   "id": "81041f51",
   "metadata": {},
   "source": [
    "## Conclusion\n",
    "\n",
    "The notebook showcases how to validate addresses using specific criteria and APIs. It's essential to ensure the accuracy of addresses, especially for applications like courier delivery, to prevent misdeliveries and maintain efficiency.\n"
   ]
  },
  {
   "cell_type": "markdown",
   "id": "8c9c6b7a",
   "metadata": {},
   "source": [
    "### program that takes as input a free flowing address and checking if the PIN code indeed corresponds to the address mentioned.\n",
    "\n",
    "####  List of test cases that I used to test your program\n",
    "`Address: 2nd Phase, 374/B, 80 Feet Rd, Mysore Bank Colony, Banashankari 3rd Stage, Srinivasa Nagar, Bengaluru, Karnataka 560050\n",
    "Result: Correct address.`\n",
    "\n",
    "`Address: 2nd Phase, 374/B, 80 Feet Rd, Bank Colony, Banashankari 3rd Stage, Srinivasa Nagar, Bengaluru, Karnataka 560050\n",
    "Result: Invalid Post Office name or the provided details don't match.`\n",
    "\n",
    "`Address: 374/B, 80 Feet Rd, State Bank Colony, Banashankari 3rd Stage, Srinivasa Nagar, Bangalore. 560050\n",
    "Result: Invalid Post Office name or the provided details don't match.`\n",
    "\n",
    "`Address: 2nd Phase, 374/B, 80 Feet Rd, Mysore Bank Colony, Banashankari 3rd Stage, Srinivasa Nagar, Bengaluru, Karnataka 560095\n",
    "Result: Correct address.`\n",
    "\n",
    "`Address: Colony, Bengaluru, Karnataka 560050\n",
    "Result: Invalid Post Office name or the provided details don't match.`\n",
    "\n",
    "`Address: UG Flr, The Destination Centre, Magarpatta, Hadapsar,Pune,Maharashtra 411028\n",
    "Result: Correct address.`"
   ]
  },
  {
   "cell_type": "code",
   "execution_count": 16,
   "id": "6f7fe39f",
   "metadata": {},
   "outputs": [
    {
     "name": "stdout",
     "output_type": "stream",
     "text": [
      "Address: 2nd Phase, 374/B, 80 Feet Rd, Mysore Bank Colony, Banashankari 3rd Stage, Srinivasa Nagar, Bengaluru, Karnataka 560050\n",
      "Result: Correct address.\n",
      "\n",
      "Address: 2nd Phase, 374/B, 80 Feet Rd, Bank Colony, Banashankari 3rd Stage, Srinivasa Nagar, Bengaluru, Karnataka 560050\n",
      "Result: Invalid Post Office name or the provided details don't match.\n",
      "\n",
      "Address: 374/B, 80 Feet Rd, State Bank Colony, Banashankari 3rd Stage, Srinivasa Nagar, Bangalore. 560050\n",
      "Result: Invalid Post Office name or the provided details don't match.\n",
      "\n",
      "Address: 2nd Phase, 374/B, 80 Feet Rd, Mysore Bank Colony, Banashankari 3rd Stage, Srinivasa Nagar, Bengaluru, Karnataka 560095\n",
      "Result: Correct address.\n",
      "\n",
      "Address: Colony, Bengaluru, Karnataka 560050\n",
      "Result: Invalid Post Office name or the provided details don't match.\n",
      "\n",
      "Address: UG Flr, The Destination Centre, Magarpatta, Hadapsar,Pune,Maharashtra 411028\n",
      "Result: Correct address.\n",
      "\n"
     ]
    }
   ],
   "source": [
    "import requests  # This module allows us to make HTTP requests. We're using it to interact with the API.\n",
    "import re # This stands for Regular Expressions, a module that provides support to search for and manipulate strings based on patterns.\n",
    "\n",
    "def validate_address(address): #  validate an address by checking both its PIN code and post office name against data from the provided APIs\n",
    "    address_lower = address.lower()\n",
    "\n",
    "    # Extract the PIN code from the address using regular expressions\n",
    "    pincode_matches = re.findall(r'\\b\\d{6}\\b', address) # regular expression (\\b\\d{6}\\b), we search for a 6-digit number that represents the PIN code in the address.\n",
    "    if not pincode_matches:\n",
    "        return False, \"No PIN code found in the address.\"\n",
    "\n",
    "    pincode = pincode_matches[0]\n",
    "    pin_url = f\"https://api.postalpincode.in/pincode/{pincode}\"\n",
    "\n",
    "    # Fetch the address details using the provided API for the given PIN code\n",
    "    pin_response = requests.get(pin_url) # Using requests.get(), we fetch data for that PIN code.\n",
    "    pin_data = pin_response.json()\n",
    "\n",
    "    if pin_data[0].get(\"Status\") != \"Success\":\n",
    "        return False, \"Invalid PIN code.\"\n",
    "\n",
    "    # Extract potential post office names from the address\n",
    "    post_office_names = [word for word in re.findall(r'\\b\\w{4,}\\b', address) if word not in pincode]\n",
    "\n",
    "    post_office_valid = False\n",
    "    for post_office_name in post_office_names:\n",
    "        branch_url = f\"https://api.postalpincode.in/postoffice/{post_office_name}\"\n",
    "        branch_response = requests.get(branch_url)\n",
    "        branch_data = branch_response.json()\n",
    "\n",
    "        if branch_data[0].get(\"Status\") == \"Success\":\n",
    "            post_office_data = branch_data[0].get(\"PostOffice\", [])\n",
    "            \n",
    "            for post_office in post_office_data:\n",
    "                district = post_office.get(\"District\", \"\").lower()\n",
    "                state = post_office.get(\"State\", \"\").lower()\n",
    "                city = post_office.get(\"Name\", \"\").lower()\n",
    "\n",
    "                if district in address_lower and state in address_lower and city in address_lower:\n",
    "                    post_office_valid = True\n",
    "                    break\n",
    "\n",
    "            if post_office_valid:\n",
    "                break\n",
    "\n",
    "    if not post_office_valid:\n",
    "        return False, \"Invalid Post Office name or the provided details don't match.\"\n",
    "\n",
    "    return True, \"Correct address.\"\n",
    "\n",
    "# Testing the function\n",
    "addresses = [\n",
    "    \"2nd Phase, 374/B, 80 Feet Rd, Mysore Bank Colony, Banashankari 3rd Stage, Srinivasa Nagar, Bengaluru, Karnataka 560050\",\n",
    "    \"2nd Phase, 374/B, 80 Feet Rd, Bank Colony, Banashankari 3rd Stage, Srinivasa Nagar, Bengaluru, Karnataka 560050\",\n",
    "    \"374/B, 80 Feet Rd, State Bank Colony, Banashankari 3rd Stage, Srinivasa Nagar, Bangalore. 560050\",\n",
    "    \"2nd Phase, 374/B, 80 Feet Rd, Mysore Bank Colony, Banashankari 3rd Stage, Srinivasa Nagar, Bengaluru, Karnataka 560095\",\n",
    "    \"Colony, Bengaluru, Karnataka 560050\",\n",
    "    \"UG Flr, The Destination Centre, Magarpatta, Hadapsar,Pune,Maharashtra 411028\"\n",
    "]\n",
    "\n",
    "for address in addresses:\n",
    "    result, message = validate_address(address)\n",
    "    print(f\"Address: {address}\\nResult: {message}\\n\")\n"
   ]
  },
  {
   "cell_type": "markdown",
   "id": "1abc6f2d",
   "metadata": {},
   "source": [
    "## why i used python programming for above code ?\n",
    "\n",
    "- `Ease of Use:` Python's concise and clear syntax allows for rapid development and prototyping of solutions. The programme you asked involves string manipulation, API calls, and JSON handling, which are all simple in Python.\n",
    "\n",
    "- `Libraries and Frameworks:` Python has a thriving library ecosystem. We used the requests package, which facilitates making HTTP requests, for the task at hand. There is almost always a Python library for almost any task you can think of, reducing the need to create everything from scratch.\n",
    "\n",
    "- `Handling JSON Data:` The API you described returns data in JSON format. Python includes JSON support, making it simple to parse and extract information.\n",
    "\n",
    "- `String Manipulation:` Python includes sophisticated string manipulation capabilities out of the box, which was critical for extracting PIN codes and checking address components.\n",
    "\n",
    "- `Popularity and Community Support:` Python's popularity and community support mean that if you run into problems or need assistance with certain tasks, there are plenty of resources available. This improves the efficiency of troubleshooting and learning.\n",
    "\n",
    "- `Cross-Platform:` Because Python is platform-independent, the code can run on a variety of operating systems without modification. This is useful if the solution must be deployed in several settings."
   ]
  }
 ],
 "metadata": {
  "kernelspec": {
   "display_name": "Python 3",
   "language": "python",
   "name": "python3"
  },
  "language_info": {
   "codemirror_mode": {
    "name": "ipython",
    "version": 3
   },
   "file_extension": ".py",
   "mimetype": "text/x-python",
   "name": "python",
   "nbconvert_exporter": "python",
   "pygments_lexer": "ipython3",
   "version": "3.8.8"
  }
 },
 "nbformat": 4,
 "nbformat_minor": 5
}
